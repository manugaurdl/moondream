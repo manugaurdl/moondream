{
 "cells": [
  {
   "cell_type": "code",
   "execution_count": null,
   "metadata": {},
   "outputs": [],
   "source": [
    "\n",
    "    \n",
    "@torch.no_grad()\n",
    "def eval_obj_det(model, loader):\n",
    "    global STEP\n",
    "    global SAVE_METRIC\n",
    "    model.eval()\n",
    "    AP = [] #image_idx --> AP\n",
    "    AP_50 = []\n",
    "    AR_100 = []\n",
    "    \n",
    "    for batch_idx, sample in enumerate(loader):\n",
    "        AP_dict = {}\n",
    "        AP_50_dict= {}\n",
    "        AR_100_dict= {}\n",
    "        for class_name, boxes_list in sample['class_to_bbox'].items():\n",
    "            instruction = f\"\\n\\nDetect: {class_name}\\n\\n\"\n",
    "            out = model.detect(sample['image'], instruction)['objects']\n",
    "            ######## TO DO --> plot 5-10 outputs\n",
    "            metadata = {\n",
    "                \"size\" : sample['size'],\n",
    "                \"prompt\": instruction,\n",
    "                'filename': sample['filename'],\n",
    "            }\n",
    "            metrics = per_object_mAP([_.tolist() for _ in boxes_list], [list(_.values()) for _ in out], metadata)\n",
    "            AP_50_dict.update({class_name:float(metrics['AP_50'])})\n",
    "            AR_100_dict.update({class_name:float(metrics['AR_100'])})\n",
    "            AP_dict.update({class_name:float(metrics['AP'])})\n",
    "        \n",
    "        AP.append(AP_dict)\n",
    "        AP_50.append(AP_50_dict)\n",
    "        AR_100.append(AR_100_dict)\n",
    "\n",
    "    _ = get_metric_summary(AP, 'AP (0.50:0.95)')\n",
    "    avg_AP_50 = get_metric_summary(AP_50, 'AP (0.50)')\n",
    "    avg_AR_100 = get_metric_summary(AR_100, 'AR (0.50:0.95) | 100 Det')\n",
    "    \n",
    "    if avg_AP_50 > SAVE_METRIC:\n",
    "        SAVE_METRIC = avg_AP_50\n",
    "        save_file(\n",
    "        model.state_dict(),\n",
    "        f\"checkpoints/{CKPT_NAME}.safetensors\",\n",
    "        )\n",
    "\n",
    "if torch.cuda.is_available():\n",
    "    torch.set_default_device(\"cuda\")\n",
    "\n"
   ]
  }
 ],
 "metadata": {
  "kernelspec": {
   "display_name": ".venv",
   "language": "python",
   "name": "python3"
  },
  "language_info": {
   "codemirror_mode": {
    "name": "ipython",
    "version": 3
   },
   "file_extension": ".py",
   "mimetype": "text/x-python",
   "name": "python",
   "nbconvert_exporter": "python",
   "pygments_lexer": "ipython3",
   "version": "3.10.12"
  },
  "orig_nbformat": 4
 },
 "nbformat": 4,
 "nbformat_minor": 2
}
